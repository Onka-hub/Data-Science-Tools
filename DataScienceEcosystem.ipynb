{
 "cells": [
  {
   "cell_type": "markdown",
   "id": "34e1d623-3867-4528-81d1-2dc3dac99842",
   "metadata": {},
   "source": [
    "# Data Science Tools and Ecosystem"
   ]
  },
  {
   "cell_type": "markdown",
   "id": "bf8cea07-c5aa-47e6-ab2f-a2e8ee39c040",
   "metadata": {},
   "source": [
    "In this notebook, Data Science Tools and Ecosystem are summarized."
   ]
  },
  {
   "cell_type": "markdown",
   "id": "df3429d8-4882-4a45-9521-740403a97290",
   "metadata": {},
   "source": [
    "**Objectives:**    \n",
    "- List Popular languages that Data Scientists use\n",
    "- List commonly used libraries by Data Scientists\n",
    "- List Data Science Tools \n"
   ]
  },
  {
   "cell_type": "markdown",
   "id": "df37531e-2efa-483d-bbdf-bfd8e54da80d",
   "metadata": {},
   "source": [
    "Some of the popular languages that Data Scientists use are:\n",
    "1. Python\n",
    "2. R\n",
    "3. Julia\n"
   ]
  },
  {
   "cell_type": "markdown",
   "id": "926e44a3-674f-4f91-9c14-64483d473c09",
   "metadata": {},
   "source": [
    "Some of the commonly used libraries used by Data Scientists include:\n",
    "1. Pandas\n",
    "2. Numpy\n",
    "3. Seaborn\n",
    "4. Scikit-learn"
   ]
  },
  {
   "cell_type": "markdown",
   "id": "1bec9b62-bf70-4dcd-a816-84e35206bda1",
   "metadata": {},
   "source": [
    "|Data Science Tools|\n",
    "|------------------|\n",
    "|RStudio|\n",
    "|Jupyter Notebooks|\n",
    "|IBM Watson Studio|"
   ]
  },
  {
   "cell_type": "markdown",
   "id": "20c13387-3818-4de3-ad31-11446017c1fd",
   "metadata": {},
   "source": [
    "### Below are a few examples of evaluating arithmetic expressions in Python:"
   ]
  },
  {
   "cell_type": "code",
   "execution_count": 6,
   "id": "c6e83516-9927-4a34-bbe0-c8f2abd109af",
   "metadata": {},
   "outputs": [
    {
     "data": {
      "text/plain": [
       "17"
      ]
     },
     "execution_count": 6,
     "metadata": {},
     "output_type": "execute_result"
    }
   ],
   "source": [
    "#This a simple arithmetic expression to mutiply then add integers\n",
    "(3*4)+5"
   ]
  },
  {
   "cell_type": "code",
   "execution_count": 8,
   "id": "8e1cdf23-e236-40f1-9044-6b68aee135c5",
   "metadata": {},
   "outputs": [
    {
     "data": {
      "text/plain": [
       "3.3333333333333335"
      ]
     },
     "execution_count": 8,
     "metadata": {},
     "output_type": "execute_result"
    }
   ],
   "source": [
    "#This will convert 200 minutes to hours by diving by 60\n",
    "200/60"
   ]
  },
  {
   "cell_type": "markdown",
   "id": "45648eba-86f3-4931-95bc-d8f8c700ab8a",
   "metadata": {},
   "source": [
    "## Author\n",
    "O.I.Gaegake"
   ]
  },
  {
   "cell_type": "code",
   "execution_count": null,
   "id": "930ae378-f853-45a3-b4ea-e5fcc7671576",
   "metadata": {},
   "outputs": [],
   "source": []
  }
 ],
 "metadata": {
  "kernelspec": {
   "display_name": "Python 3 (ipykernel)",
   "language": "python",
   "name": "python3"
  },
  "language_info": {
   "codemirror_mode": {
    "name": "ipython",
    "version": 3
   },
   "file_extension": ".py",
   "mimetype": "text/x-python",
   "name": "python",
   "nbconvert_exporter": "python",
   "pygments_lexer": "ipython3",
   "version": "3.12.4"
  }
 },
 "nbformat": 4,
 "nbformat_minor": 5
}
